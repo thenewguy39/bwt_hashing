{
 "cells": [
  {
   "cell_type": "code",
   "execution_count": 32,
   "metadata": {},
   "outputs": [],
   "source": [
    "import random\n",
    "hash_table = []\n",
    "arr = []\n",
    "\n",
    "for i in range(1000):\n",
    "    s = \"\"\n",
    "    for j in range(64):\n",
    "        s += str(random.randint(0, 1))\n",
    "    arr.append(s)"
   ]
  },
  {
   "cell_type": "code",
   "execution_count": 33,
   "metadata": {},
   "outputs": [
    {
     "name": "stdout",
     "output_type": "stream",
     "text": [
      "No. of non-collisions is 101\n",
      "Collision percentage is 10.1\n"
     ]
    }
   ],
   "source": [
    "from hash_service import hash\n",
    "collisions = 0\n",
    "non_collisions = 0\n",
    "for s in arr:\n",
    "    hash_key = hash.compute(s, 16)\n",
    "    #print(hash_key)\n",
    "    if hash_key in hash_table:\n",
    "        collisions += 1\n",
    "    else:\n",
    "        non_collisions += 1\n",
    "        hash_table.append(hash_key)\n",
    "\n",
    "print(\"No. of non-collisions is \" + str(collisions))\n",
    "print(\"Collision percentage is \" + str(float(collisions)/10))"
   ]
  }
 ],
 "metadata": {
  "interpreter": {
   "hash": "03693fab5449bae5589ca4407cb455b5a27da26c746a737a7522859bfe6a996c"
  },
  "kernelspec": {
   "display_name": "Python 3.6.4 64-bit",
   "language": "python",
   "name": "python3"
  },
  "language_info": {
   "codemirror_mode": {
    "name": "ipython",
    "version": 3
   },
   "file_extension": ".py",
   "mimetype": "text/x-python",
   "name": "python",
   "nbconvert_exporter": "python",
   "pygments_lexer": "ipython3",
   "version": "3.6.4"
  },
  "orig_nbformat": 4
 },
 "nbformat": 4,
 "nbformat_minor": 2
}
