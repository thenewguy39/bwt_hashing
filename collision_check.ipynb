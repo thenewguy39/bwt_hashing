{
 "cells": [
  {
   "cell_type": "code",
   "execution_count": null,
   "metadata": {},
   "outputs": [],
   "source": [
    "hash_table = {}\n",
    "arr = []\n",
    "\n",
    "\n",
    "def generateAllBinaryStrings(n, s, i):\n",
    "    global arr\n",
    "    if i == n:\n",
    "        s = \"\".join(s)\n",
    "        arr.append(s)\n",
    "        return\n",
    "\n",
    "    s[i] = \"0\"\n",
    "    generateAllBinaryStrings(n, s, i + 1)\n",
    "\n",
    "    s[i] = \"1\"\n",
    "    generateAllBinaryStrings(n, s, i + 1)\n",
    "\n",
    "\n",
    "generateAllBinaryStrings(20, [\"0\"] * 20, 0)"
   ]
  },
  {
   "cell_type": "code",
   "execution_count": null,
   "metadata": {},
   "outputs": [],
   "source": [
    "print(arr)"
   ]
  },
  {
   "cell_type": "code",
   "execution_count": 3,
   "metadata": {},
   "outputs": [
    {
     "name": "stdout",
     "output_type": "stream",
     "text": [
      "No. of collisions is 1045267\n"
     ]
    }
   ],
   "source": [
    "from hash_service import hash\n",
    "collisions = 0\n",
    "for s in arr:\n",
    "    hash_key = hash.compute(s, 16)\n",
    "    if hash_key in hash_table:\n",
    "        collisions += 1\n",
    "    else:\n",
    "        hash_table[hash_key] = 1\n",
    "\n",
    "print(\"No. of collisions is \" + str(collisions))"
   ]
  }
 ],
 "metadata": {
  "interpreter": {
   "hash": "03693fab5449bae5589ca4407cb455b5a27da26c746a737a7522859bfe6a996c"
  },
  "kernelspec": {
   "display_name": "Python 3.6.4 64-bit",
   "language": "python",
   "name": "python3"
  },
  "language_info": {
   "codemirror_mode": {
    "name": "ipython",
    "version": 3
   },
   "file_extension": ".py",
   "mimetype": "text/x-python",
   "name": "python",
   "nbconvert_exporter": "python",
   "pygments_lexer": "ipython3",
   "version": "3.6.4"
  },
  "orig_nbformat": 4
 },
 "nbformat": 4,
 "nbformat_minor": 2
}
